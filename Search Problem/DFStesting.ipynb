{
 "cells": [
  {
   "cell_type": "code",
   "execution_count": 6,
   "id": "6159182c",
   "metadata": {},
   "outputs": [],
   "source": [
    "explored = []\n",
    "explored.append(5)\n",
    "explored.append(53)\n",
    "explored.append(8)\n",
    "explored.append(2)\n",
    "explored.append(19)\n",
    "explored.append(100)"
   ]
  },
  {
   "cell_type": "code",
   "execution_count": 7,
   "id": "57a5a4a8",
   "metadata": {},
   "outputs": [
    {
     "name": "stdout",
     "output_type": "stream",
     "text": [
      "\n",
      "Explored set :  [5, 53, 8, 2, 19, 100]\n"
     ]
    }
   ],
   "source": [
    "print(\"\\nExplored set : \", explored)"
   ]
  },
  {
   "cell_type": "code",
   "execution_count": null,
   "id": "134083f1",
   "metadata": {},
   "outputs": [],
   "source": []
  }
 ],
 "metadata": {
  "kernelspec": {
   "display_name": "Python 3",
   "language": "python",
   "name": "python3"
  },
  "language_info": {
   "codemirror_mode": {
    "name": "ipython",
    "version": 3
   },
   "file_extension": ".py",
   "mimetype": "text/x-python",
   "name": "python",
   "nbconvert_exporter": "python",
   "pygments_lexer": "ipython3",
   "version": "3.8.8"
  }
 },
 "nbformat": 4,
 "nbformat_minor": 5
}
